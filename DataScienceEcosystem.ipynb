{
 "cells": [
  {
   "cell_type": "markdown",
   "metadata": {},
   "source": [
    "<center>\n",
    "    <img src=\"https://cf-courses-data.s3.us.cloud-object-storage.appdomain.cloud/IBMDeveloperSkillsNetwork-DS0105EN-SkillsNetwork/labs/Module2/images/SN_web_lightmode.png\" width=\"300\" alt=\"cognitiveclass.ai logo\">\n",
    "</center>\n"
   ]
  },
  {
   "cell_type": "markdown",
   "metadata": {},
   "source": [
    "#### Add your code below following the instructions given in the course\n"
   ]
  },
  {
   "cell_type": "markdown",
   "metadata": {},
   "source": [
    "# H1 Data Science Tools and Ecosystem"
   ]
  },
  {
   "cell_type": "markdown",
   "metadata": {},
   "source": [
    "In this notebook, Data Science Tools and Ecosystem are summarized."
   ]
  },
  {
   "cell_type": "markdown",
   "metadata": {},
   "source": [
    "Some of the popular languages that Data Scientists use are:\n",
    "\n",
    "1. **Python:**\n",
    "   - Python is the most widely used language in the data science community. It offers a rich ecosystem of libraries and frameworks such as NumPy, Pandas, Matplotlib, Seaborn, Scikit-learn, TensorFlow, and PyTorch.\n",
    "\n",
    "2. **R:**\n",
    "   - R is a statistical programming language that is widely used for data analysis and visualization. It has a strong community in academia and is known for its powerful statistical packages like ggplot2 and dplyr.\n",
    "\n",
    "3. **SQL:**\n",
    "   - While not a programming language in the traditional sense, SQL (Structured Query Language) is essential for working with relational databases. Data scientists frequently use SQL for data extraction, transformation, and querying relational databases.\n",
    "\n",
    "4. **Julia:**\n",
    "   - Julia is gaining popularity in the data science community due to its speed and performance. It is designed for high-performance numerical and scientific computing.\n",
    "\n",
    "5. **Scala:**\n",
    "   - Scala, with Apache Spark, is often used for distributed data processing and big data analytics. Spark's primary language is Scala, and it provides APIs in other languages like Python and Java.\n"
   ]
  },
  {
   "cell_type": "markdown",
   "metadata": {},
   "source": [
    "Some of the commonly used libraries used by Data Scientists include:\n",
    "\n",
    "1. **NumPy:**\n",
    "   - NumPy is a fundamental library for numerical computing in Python. It provides support for large, multi-dimensional arrays and matrices, along with mathematical functions to operate on these arrays.\n",
    "\n",
    "2. **Pandas:**\n",
    "   - Pandas is a powerful data manipulation and analysis library for Python. It offers data structures like DataFrame and Series, making it easy to handle and analyze structured data.\n",
    "\n",
    "3. **Matplotlib:**\n",
    "   - Matplotlib is a versatile plotting library for Python. It enables the creation of static, animated, and interactive visualizations in Python. Matplotlib is often used in conjunction with Pandas for data visualization.\n",
    "\n",
    "4. **Scikit-learn:**\n",
    "   - Scikit-learn is a machine learning library for Python. It provides simple and efficient tools for data mining and data analysis and is built on NumPy, SciPy, and Matplotlib.\n",
    "\n",
    "5. **TensorFlow:**\n",
    "   - TensorFlow is an open-source machine learning framework developed by Google. It is widely used for building and training deep learning models.\n",
    "\n",
    "6. **PyTorch:**\n",
    "   - PyTorch is another popular open-source machine learning framework. It is known for its dynamic computational graph, making it flexible for research and development.\n",
    "\n",
    "7. **Seaborn:**\n",
    "   - Seaborn is a statistical data visualization library based on Matplotlib. It provides a high-level interface for drawing attractive and informative statistical graphics.\n",
    "\n",
    "8. **Statsmodels:**\n",
    "   - Statsmodels is a library for estimating and testing statistical models. It complements Scikit-learn and is often used for regression analysis, hypothesis testing, and time-series analysis.\n",
    "\n",
    "9. **NLTK (Natural Language Toolkit):**\n",
    "   - NLTK is a library for working with human language data. It provides tools for tasks such as classification, tokenization, stemming, tagging, parsing, and more.\n",
    "\n"
   ]
  },
  {
   "cell_type": "markdown",
   "metadata": {},
   "source": [
    "| Data Science Tools         |\n",
    "|----------------------------|\n",
    "| Jupyter Notebooks          |\n",
    "| RStudio                    |\n",
    "| VS Code with Python Plugin |\n"
   ]
  },
  {
   "cell_type": "markdown",
   "metadata": {
    "tags": []
   },
   "source": [
    "### Below are a few examples of evaluating arithmetic expressions in Python."
   ]
  },
  {
   "cell_type": "code",
   "execution_count": 2,
   "metadata": {
    "tags": []
   },
   "outputs": [
    {
     "data": {
      "text/plain": [
       "17"
      ]
     },
     "execution_count": 2,
     "metadata": {},
     "output_type": "execute_result"
    }
   ],
   "source": [
    "# This is a simple arithmetic expression to multiply then add integers.\n",
    "result = (3 * 4) + 5\n",
    "result\n"
   ]
  },
  {
   "cell_type": "code",
   "execution_count": 3,
   "metadata": {
    "tags": []
   },
   "outputs": [
    {
     "data": {
      "text/plain": [
       "3.3333333333333335"
      ]
     },
     "execution_count": 3,
     "metadata": {},
     "output_type": "execute_result"
    }
   ],
   "source": [
    "# This will convert 200 minutes to hours by dividing by 60.\n",
    "hours = 200 / 60\n",
    "hours\n"
   ]
  },
  {
   "cell_type": "markdown",
   "metadata": {},
   "source": [
    "**Objectives:**\n",
    "\n",
    "- List popular languages for Data Science.\n",
    "- Introduce commonly used libraries in Data Science.\n",
    "- Showcase basic arithmetic expressions and their evaluation in Python.\n"
   ]
  },
  {
   "cell_type": "markdown",
   "metadata": {},
   "source": [
    "## Author\n",
    "\n",
    "IDIR TIAB"
   ]
  },
  {
   "cell_type": "code",
   "execution_count": null,
   "metadata": {},
   "outputs": [],
   "source": []
  }
 ],
 "metadata": {
  "kernelspec": {
   "display_name": "Python",
   "language": "python",
   "name": "conda-env-python-py"
  },
  "language_info": {
   "codemirror_mode": {
    "name": "ipython",
    "version": 3
   },
   "file_extension": ".py",
   "mimetype": "text/x-python",
   "name": "python",
   "nbconvert_exporter": "python",
   "pygments_lexer": "ipython3",
   "version": "3.7.12"
  }
 },
 "nbformat": 4,
 "nbformat_minor": 4
}
